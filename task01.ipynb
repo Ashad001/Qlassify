{
 "cells": [
  {
   "cell_type": "code",
   "execution_count": 1,
   "metadata": {},
   "outputs": [],
   "source": [
    "import pandas as pd\n",
    "import numpy as np\n",
    "import matplotlib.pyplot as plt\n",
    "\n",
    "df = pd.read_csv('./data/statlog_heart/heart_data.csv')\n",
    "df = df.iloc[:100]\n"
   ]
  },
  {
   "cell_type": "code",
   "execution_count": 2,
   "metadata": {},
   "outputs": [
    {
     "name": "stdout",
     "output_type": "stream",
     "text": [
      "(100, 13) (100,)\n"
     ]
    }
   ],
   "source": [
    "df = df.rename(columns={'heart_disease': 'target'})\n",
    "X = df.drop('target', axis=1)\n",
    "y = df['target']\n",
    "print(X.shape, y.shape)"
   ]
  },
  {
   "cell_type": "code",
   "execution_count": 3,
   "metadata": {},
   "outputs": [],
   "source": [
    "from sklearn.preprocessing import MinMaxScaler\n",
    "\n",
    "scaler = MinMaxScaler(feature_range=(-np.pi, np.pi))\n",
    "X = scaler.fit_transform(X)\n",
    "y = np.array(y).reshape(-1, 1)"
   ]
  },
  {
   "cell_type": "code",
   "execution_count": 4,
   "metadata": {},
   "outputs": [
    {
     "name": "stdout",
     "output_type": "stream",
     "text": [
      "Data:  (100, 13) (100, 1)\n",
      "Train set: (70, 13) (70, 1)\n",
      "Validation set: (20, 13) (20, 1)\n",
      "Test set: (10, 13) (10, 1)\n"
     ]
    }
   ],
   "source": [
    "from sklearn.model_selection import train_test_split\n",
    "\n",
    "X_train, X_test, y_train, y_test = train_test_split(X, y, test_size=0.3, random_state=42)\n",
    "X_valid, X_test, y_valid, y_test = train_test_split(X_test, y_test, test_size=0.33, random_state=42)\n",
    "\n",
    "print(\"Data: \", X.shape, y.shape)\n",
    "print(\"Train set:\", X_train.shape, y_train.shape)\n",
    "print(\"Validation set:\", X_valid.shape, y_valid.shape)\n",
    "print(\"Test set:\", X_test.shape, y_test.shape)"
   ]
  },
  {
   "cell_type": "code",
   "execution_count": 5,
   "metadata": {},
   "outputs": [],
   "source": [
    "from qiskit import QuantumCircuit\n",
    "from qiskit.circuit import ParameterVector\n",
    "from qiskit_machine_learning.algorithms import VQC\n",
    "from qiskit.circuit.library import ZZFeatureMap, PauliFeatureMap\n",
    "from qiskit_algorithms.optimizers import COBYLA"
   ]
  },
  {
   "cell_type": "code",
   "execution_count": 6,
   "metadata": {},
   "outputs": [],
   "source": [
    "zz_feature_map = ZZFeatureMap(\n",
    "    feature_dimension=X_train.shape[1], \n",
    "    reps=2)\n",
    "pauli_feature_map = PauliFeatureMap(\n",
    "    feature_dimension=X_train.shape[1], \n",
    "    reps=2, paulis=[\"Z\", \"YY\"], \n",
    "    entanglement=\"full\"\n",
    ")\n"
   ]
  },
  {
   "cell_type": "code",
   "execution_count": 7,
   "metadata": {},
   "outputs": [],
   "source": [
    "from src.experiment import Experiment\n",
    "\n",
    "experiment1 = Experiment(\n",
    "    X_train, y_train, \n",
    "    X_valid, y_valid, \n",
    "    X_test, y_test, \n",
    "    num_qubits=X_train.shape[1]\n",
    ")\n",
    "\n",
    "experiment2 = Experiment(\n",
    "    X_train, y_train, \n",
    "    X_valid, y_valid, \n",
    "    X_test, y_test, \n",
    "    num_qubits=X_train.shape[1]\n",
    ")"
   ]
  },
  {
   "cell_type": "code",
   "execution_count": 8,
   "metadata": {},
   "outputs": [],
   "source": [
    "from src.ansatz import *"
   ]
  },
  {
   "cell_type": "code",
   "execution_count": 9,
   "metadata": {},
   "outputs": [
    {
     "name": "stdout",
     "output_type": "stream",
     "text": [
      "[+] Running experiment with ZZ Feature Map...\n"
     ]
    }
   ],
   "source": [
    "print(\"[+] Running experiment with ZZ Feature Map...\")\n",
    "experiment1.run_experiment(zz_feature_map, [ansatz_1, ansatz_2, ansatz_3, ansatz_4], max_reps=3)\n",
    "experiment2.plot_results()\n",
    "\n",
    "test_results = experiment1.evaluate_best_on_test()\n",
    "print(\"Test Results for the Best Model on ZZ Feature Set:\", test_results)\n",
    "\n"
   ]
  },
  {
   "cell_type": "code",
   "execution_count": null,
   "metadata": {},
   "outputs": [],
   "source": [
    "print(\"[+] Running experiment with Pauli Feature Map...\")\n",
    "experiment2.run_experiment(pauli_feature_map, [ansatz_1, ansatz_2, ansatz_3, ansatz_4], max_reps=4)\n",
    "experiment2.plot_results()\n",
    "\n",
    "test_results = experiment2.evaluate_best_on_test()\n",
    "print(\"Test Results for the Best Model on Pauli Feature Set:\", test_results)"
   ]
  }
 ],
 "metadata": {
  "kernelspec": {
   "display_name": ".venv",
   "language": "python",
   "name": "python3"
  },
  "language_info": {
   "codemirror_mode": {
    "name": "ipython",
    "version": 3
   },
   "file_extension": ".py",
   "mimetype": "text/x-python",
   "name": "python",
   "nbconvert_exporter": "python",
   "pygments_lexer": "ipython3",
   "version": "3.8.10"
  }
 },
 "nbformat": 4,
 "nbformat_minor": 2
}
